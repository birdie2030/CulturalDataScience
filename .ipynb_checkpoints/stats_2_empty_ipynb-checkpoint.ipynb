{
 "cells": [
  {
   "cell_type": "markdown",
   "id": "d3927537-1b77-4eb6-857e-c0f544f42808",
   "metadata": {},
   "source": [
    "# Exercise 1 - introducing t-test "
   ]
  },
  {
   "cell_type": "markdown",
   "id": "6745e103-4594-4df5-85e9-9c3a63a4a105",
   "metadata": {},
   "source": [
    "You have already learned about the the command line, scripts, and functions. R has one more level of organisation. Packages. Packages are sets of functions. We have already used one of these. Packages can also include data. We are now going to install a package, load it, and use it just for it's data. \n",
    "\n",
    "The package level is what makes R so powerful as a an open source language. you can make a package, get it reviewed, and have it stored on CRAN (Comprehensive R Archive Network) where everyone can download it. This means that R is an active environment for the development of statistical methods and theory.\n",
    "\n",
    "Description of the package here: https://simplystatistics.org/2018/01/22/the-dslabs-package-provides-datasets-for-teaching-data-science/"
   ]
  },
  {
   "cell_type": "code",
   "execution_count": null,
   "id": "2e87183f-20b4-4c3b-9452-4e3305b8fd5e",
   "metadata": {},
   "outputs": [],
   "source": []
  },
  {
   "cell_type": "code",
   "execution_count": null,
   "id": "e7b9c27b-27c9-40cc-868a-b77e64a22d74",
   "metadata": {},
   "outputs": [],
   "source": []
  },
  {
   "cell_type": "markdown",
   "id": "50106507-c673-47f6-b062-e71041497c98",
   "metadata": {},
   "source": [
    "Let's conduct an analysis of the height data - self-reported heights in inches"
   ]
  },
  {
   "cell_type": "code",
   "execution_count": null,
   "id": "def34e2b-2e8c-4db6-8e6a-7ea62570d126",
   "metadata": {},
   "outputs": [],
   "source": []
  },
  {
   "cell_type": "markdown",
   "id": "666794e2-67fb-4e14-8397-6664cba7c555",
   "metadata": {},
   "source": [
    "This gives us a data frame."
   ]
  },
  {
   "cell_type": "code",
   "execution_count": null,
   "id": "de6c4c81-a690-494d-bb18-0c7be24c8eb3",
   "metadata": {},
   "outputs": [],
   "source": []
  },
  {
   "cell_type": "markdown",
   "id": "8fbeea90-5b5a-4884-b3b6-a522d9e33947",
   "metadata": {},
   "source": [
    "First let's make frequency distributions for the women and men seperately.\n",
    "\n",
    "You can make some quick and dirty separate plots using a basic function and indexing..."
   ]
  },
  {
   "cell_type": "code",
   "execution_count": null,
   "id": "52dbe38a-badb-4c62-a9e4-76d99bd6ca71",
   "metadata": {},
   "outputs": [],
   "source": []
  },
  {
   "cell_type": "markdown",
   "id": "05022b95-27fb-42d6-a694-2399a105f0e4",
   "metadata": {},
   "source": [
    "... though it would be better if we could see all the data together on the same histogram"
   ]
  },
  {
   "cell_type": "code",
   "execution_count": null,
   "id": "099c6b7c-96c2-44f7-af89-6e47d33bb9cd",
   "metadata": {},
   "outputs": [],
   "source": []
  },
  {
   "cell_type": "code",
   "execution_count": null,
   "id": "816cca71-de49-4ee9-8899-d348b85dd2c8",
   "metadata": {},
   "outputs": [],
   "source": []
  },
  {
   "cell_type": "markdown",
   "id": "c3457cc6-bd01-462d-a386-f6731ed824fa",
   "metadata": {},
   "source": [
    "Let's look at the summary statistics - you can actually make them in 1 table!"
   ]
  },
  {
   "cell_type": "code",
   "execution_count": null,
   "id": "6e781035-5bf1-49da-b5fd-68f46dec4f76",
   "metadata": {},
   "outputs": [],
   "source": []
  },
  {
   "cell_type": "code",
   "execution_count": null,
   "id": "95fa193e-a118-4145-a4d3-3af6d4aa2b07",
   "metadata": {},
   "outputs": [],
   "source": []
  },
  {
   "cell_type": "code",
   "execution_count": null,
   "id": "2e25aa67-befb-4dac-9990-2fd5d8c52ef5",
   "metadata": {},
   "outputs": [],
   "source": []
  },
  {
   "cell_type": "markdown",
   "id": "fbb26732-64cf-4083-843f-2a5bd0c67c23",
   "metadata": {},
   "source": [
    "Lets try visualising the data in terms of probability distributions"
   ]
  },
  {
   "cell_type": "code",
   "execution_count": null,
   "id": "1cb5ec35-c91c-4b6d-8fea-bb5c233e62c1",
   "metadata": {},
   "outputs": [],
   "source": []
  },
  {
   "cell_type": "markdown",
   "id": "645a80ee-dadf-4726-9e53-214382f49997",
   "metadata": {},
   "source": [
    "Now we are ready to run a hypothesis test. Are men taller than women? What sort of t test should we do?"
   ]
  },
  {
   "cell_type": "code",
   "execution_count": null,
   "id": "acebb9d7-4d7f-4239-b24a-e26ced6d28ab",
   "metadata": {},
   "outputs": [],
   "source": []
  },
  {
   "cell_type": "markdown",
   "id": "2d87bca0-39e1-490c-8928-f2d5473cd164",
   "metadata": {},
   "source": [
    "# Exercise 2 - Some more messy real world data"
   ]
  },
  {
   "cell_type": "markdown",
   "id": "ba2a4ed7-f398-4276-9591-9561f15ff515",
   "metadata": {},
   "source": [
    "We have been dealing with data that is fairly well organised. Let's look at some data that is slightly more messy\n",
    "\n",
    "Install and load the fuelconomy package, which has fuel economy data from the EPA: https://cran.r-project.org/web/packages/fueleconomy/fueleconomy.pdf"
   ]
  },
  {
   "cell_type": "code",
   "execution_count": null,
   "id": "a04b6535-5398-4bbe-9537-727820277757",
   "metadata": {},
   "outputs": [],
   "source": []
  },
  {
   "cell_type": "code",
   "execution_count": null,
   "id": "1f6f02a2-4675-486d-9f44-9875031429f3",
   "metadata": {},
   "outputs": [],
   "source": []
  },
  {
   "cell_type": "code",
   "execution_count": null,
   "id": "a95f0655-da33-4bb4-a68f-ac05b9854666",
   "metadata": {},
   "outputs": [],
   "source": []
  },
  {
   "cell_type": "code",
   "execution_count": null,
   "id": "3b9804ee-1648-4016-8552-4f5d0a3079d8",
   "metadata": {},
   "outputs": [],
   "source": []
  },
  {
   "cell_type": "markdown",
   "id": "2d066204-b70a-4a07-89be-473fca4cdd98",
   "metadata": {},
   "source": [
    "Let's set ourselves the task of comparing the city fuel economy of the midsize class of two car brands: Audi and VW"
   ]
  },
  {
   "cell_type": "markdown",
   "id": "2fa8044b-96af-4fc0-8882-e3aea498d06f",
   "metadata": {},
   "source": [
    "Our first step is to isolate the relevant data. There are many ways to do this. Here's one:"
   ]
  },
  {
   "cell_type": "code",
   "execution_count": null,
   "id": "549b4f30-1113-42ff-a752-2b2789af7edc",
   "metadata": {},
   "outputs": [],
   "source": []
  },
  {
   "cell_type": "code",
   "execution_count": null,
   "id": "da7855d5-ba74-43e3-9509-07f66b8560ac",
   "metadata": {},
   "outputs": [],
   "source": []
  },
  {
   "cell_type": "markdown",
   "id": "84a79015-8393-4042-92e8-2879114a0552",
   "metadata": {},
   "source": [
    "How many cars do we have in each group?"
   ]
  },
  {
   "cell_type": "code",
   "execution_count": null,
   "id": "5e105d54-f850-46cc-97e5-86d3e3f05aef",
   "metadata": {},
   "outputs": [],
   "source": []
  },
  {
   "cell_type": "markdown",
   "id": "1c2d4f1b-ecf8-4003-b56d-e5f66048803d",
   "metadata": {},
   "source": [
    "Let's use t.test to compare performance of the two cars"
   ]
  },
  {
   "cell_type": "code",
   "execution_count": null,
   "id": "bf460c4f-350a-435e-96db-f4bbf1a1579c",
   "metadata": {},
   "outputs": [],
   "source": []
  },
  {
   "cell_type": "markdown",
   "id": "27f239cd-e486-48c4-a529-3d8d656b1da5",
   "metadata": {},
   "source": [
    "Let's visualise the data and see if this is the best way to ask our question"
   ]
  },
  {
   "cell_type": "code",
   "execution_count": null,
   "id": "3c403216-250c-4a9d-b20f-578700df3815",
   "metadata": {},
   "outputs": [],
   "source": []
  },
  {
   "cell_type": "code",
   "execution_count": null,
   "id": "40d41b27-7a0e-4796-91a6-adee4fd97c34",
   "metadata": {},
   "outputs": [],
   "source": []
  },
  {
   "cell_type": "code",
   "execution_count": null,
   "id": "fe9c0c33-9a51-408f-beb4-a75b41445b12",
   "metadata": {},
   "outputs": [],
   "source": []
  },
  {
   "cell_type": "markdown",
   "id": "7ba9c962-d51c-4fdc-be6a-3506c0e93af6",
   "metadata": {},
   "source": [
    "We see that a normal distribution is an okay model for our data, but perhaps not the best one. We can see something important happening in the tails suggesting there is important structure we will miss."
   ]
  },
  {
   "cell_type": "markdown",
   "id": "cdd487c6-beb9-449f-a940-dc03e6bcb5b6",
   "metadata": {},
   "source": [
    "Let's investigate that structure"
   ]
  },
  {
   "cell_type": "code",
   "execution_count": null,
   "id": "7cb13735-65d0-4d22-a8a0-1f47881f49af",
   "metadata": {},
   "outputs": [],
   "source": []
  },
  {
   "cell_type": "markdown",
   "id": "bff48c6c-3ce4-499d-887a-ef45356f205a",
   "metadata": {},
   "source": [
    "Let's make a scatterplot"
   ]
  },
  {
   "cell_type": "code",
   "execution_count": null,
   "id": "1f239343-edcb-4690-a753-02349cc94a43",
   "metadata": {},
   "outputs": [],
   "source": []
  },
  {
   "cell_type": "code",
   "execution_count": null,
   "id": "b9c2b00c-6c45-4e23-aafd-246543323b87",
   "metadata": {},
   "outputs": [],
   "source": []
  }
 ],
 "metadata": {
  "kernelspec": {
   "display_name": "R",
   "language": "R",
   "name": "ir"
  },
  "language_info": {
   "codemirror_mode": "r",
   "file_extension": ".r",
   "mimetype": "text/x-r-source",
   "name": "R",
   "pygments_lexer": "r",
   "version": "4.4.1"
  }
 },
 "nbformat": 4,
 "nbformat_minor": 5
}
