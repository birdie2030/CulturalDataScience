{
 "cells": [
  {
   "cell_type": "markdown",
   "id": "1a846cfe-d705-4f1f-866b-b4b370af384d",
   "metadata": {},
   "source": [
    "# Part 1 - The basics"
   ]
  },
  {
   "cell_type": "markdown",
   "id": "223204e5-f880-46d3-b81f-63e24071759b",
   "metadata": {},
   "source": [
    "R is just a calculator."
   ]
  },
  {
   "cell_type": "code",
   "execution_count": null,
   "id": "21e221b0-07e2-49e1-b9a9-c3950d59cf3d",
   "metadata": {},
   "outputs": [],
   "source": []
  },
  {
   "cell_type": "code",
   "execution_count": null,
   "id": "265925a8-24b1-497f-ad40-fb97d803ce77",
   "metadata": {},
   "outputs": [],
   "source": []
  },
  {
   "cell_type": "markdown",
   "id": "5acd0cf3-6792-4e36-8e68-79c022c09f93",
   "metadata": {},
   "source": [
    "There is special syntax for multiplication and division."
   ]
  },
  {
   "cell_type": "code",
   "execution_count": null,
   "id": "b77555ea-1d89-4527-a565-5c1966606e2d",
   "metadata": {},
   "outputs": [],
   "source": []
  },
  {
   "cell_type": "code",
   "execution_count": null,
   "id": "ef1d5efe-3dea-40dd-b96c-88ad80fb0a15",
   "metadata": {},
   "outputs": [],
   "source": []
  },
  {
   "cell_type": "markdown",
   "id": "74e06cd4-c9cc-46cd-91eb-154947ae895a",
   "metadata": {},
   "source": [
    "We can also assign numbers to variables and to operations."
   ]
  },
  {
   "cell_type": "code",
   "execution_count": null,
   "id": "ffbb4db1-36f8-4371-b860-b9e1136b93b7",
   "metadata": {},
   "outputs": [],
   "source": []
  },
  {
   "cell_type": "markdown",
   "id": "e849af61-59e4-4c22-8359-93fbf214c73b",
   "metadata": {},
   "source": [
    "A function is just something with an input and an output."
   ]
  },
  {
   "cell_type": "code",
   "execution_count": null,
   "id": "61462036-ed36-4270-a768-fd130530865e",
   "metadata": {},
   "outputs": [],
   "source": []
  },
  {
   "cell_type": "code",
   "execution_count": null,
   "id": "c5260e87-8683-4e6b-91ab-383c9637aa76",
   "metadata": {},
   "outputs": [],
   "source": []
  },
  {
   "cell_type": "code",
   "execution_count": null,
   "id": "11c137cb-3fb2-4a4d-8b27-6b59f52739a9",
   "metadata": {},
   "outputs": [],
   "source": []
  },
  {
   "cell_type": "markdown",
   "id": "3e91f7cc-255b-48f4-ab57-eb7391ee4abb",
   "metadata": {},
   "source": [
    "# Part 2 - A bit more advanced"
   ]
  },
  {
   "cell_type": "markdown",
   "id": "248b1114-2884-4f05-bffc-56e160aea5cc",
   "metadata": {},
   "source": [
    "The nice thing about R is that unlike on a calculator, you can keep track of your operations. This is important for reproducing your work, and doing more complicated stuff. Let's look at some of this more complicated stuff!"
   ]
  },
  {
   "cell_type": "markdown",
   "id": "ac06ad57-0aeb-4026-94da-8c7c106cf4f5",
   "metadata": {},
   "source": [
    "We can assign lists of numbers to variables. This is called an array.\n",
    "'c' is just a function. It means 'concatenate'."
   ]
  },
  {
   "cell_type": "code",
   "execution_count": null,
   "id": "4e6a29ac-95f4-4fb9-990b-8a62069bcd76",
   "metadata": {},
   "outputs": [],
   "source": []
  },
  {
   "cell_type": "markdown",
   "id": "c24e1454-776f-4daf-a99e-25200904b9ee",
   "metadata": {},
   "source": [
    "We can do operations on lists too, the same as for simpler variables.\n",
    "We can make a new variable in the process."
   ]
  },
  {
   "cell_type": "code",
   "execution_count": null,
   "id": "aba7981c-75e6-4f6d-a5cf-9820890daa6b",
   "metadata": {},
   "outputs": [],
   "source": []
  },
  {
   "cell_type": "markdown",
   "id": "9bc9f880-9552-48c3-9e09-18c606f30a30",
   "metadata": {},
   "source": [
    "To see the output, you need to call the variable directly."
   ]
  },
  {
   "cell_type": "code",
   "execution_count": null,
   "id": "2860fb03-b59f-414b-87a2-7f181486fee2",
   "metadata": {},
   "outputs": [],
   "source": []
  },
  {
   "cell_type": "markdown",
   "id": "acfd0860-c27e-4e04-b5ba-ab599b7f9986",
   "metadata": {},
   "source": [
    "We can use other functions to make lists. We can make sequences..."
   ]
  },
  {
   "cell_type": "code",
   "execution_count": null,
   "id": "df9fb366-73e2-41f9-95ae-dbb3c2cc57c3",
   "metadata": {},
   "outputs": [],
   "source": []
  },
  {
   "cell_type": "markdown",
   "id": "2fb47e4b-4003-47a5-b65f-5eb3ce8450a6",
   "metadata": {},
   "source": [
    "...or repeat numbers"
   ]
  },
  {
   "cell_type": "code",
   "execution_count": null,
   "id": "8a60419c-b130-421d-b220-41465cf63a47",
   "metadata": {},
   "outputs": [],
   "source": []
  },
  {
   "cell_type": "markdown",
   "id": "ceb4a06c-2759-42d7-b834-c66398ac717c",
   "metadata": {},
   "source": [
    "We can also generate random lists."
   ]
  },
  {
   "cell_type": "code",
   "execution_count": null,
   "id": "a0b7baea-94b1-4e6e-8285-fb166af80ca8",
   "metadata": {},
   "outputs": [],
   "source": []
  },
  {
   "cell_type": "markdown",
   "id": "a9b41cdd-8549-426c-a63a-c48eaef7bebb",
   "metadata": {},
   "source": [
    "A uniform distribution is a probability distribution in which all outcomes are equally likely, resulting in a constant probability density across a specified interval."
   ]
  },
  {
   "cell_type": "markdown",
   "id": "79545d3b-fcaa-4cef-8c6b-ede5ac095ebe",
   "metadata": {},
   "source": [
    "If you are unsure about how a function works, there's a built-in way to get help:"
   ]
  },
  {
   "cell_type": "code",
   "execution_count": null,
   "id": "f032b628-f242-4e9a-a621-b48c232cf34a",
   "metadata": {},
   "outputs": [],
   "source": []
  },
  {
   "cell_type": "markdown",
   "id": "a2698634-aee6-4790-9067-9a70003b55cb",
   "metadata": {},
   "source": [
    "We don't have to use a uniform distribution. Actually, a normal distribution will be better. Let's do that instead."
   ]
  },
  {
   "cell_type": "code",
   "execution_count": null,
   "id": "de4a1ed7-b9de-4d1c-aafb-f663ef593c78",
   "metadata": {},
   "outputs": [],
   "source": []
  },
  {
   "cell_type": "markdown",
   "id": "96fb9a30-367e-403a-8058-24b0715b1611",
   "metadata": {},
   "source": [
    "A normal distribution is a symmetric, bell-shaped probability distribution characterized by its mean and standard deviation, where approximately 68% of the data falls within one standard deviation of the mean."
   ]
  },
  {
   "cell_type": "markdown",
   "id": "a1468e8b-d238-4885-9d26-4502e6da5308",
   "metadata": {},
   "source": [
    "We can also make lists of words. This can be useful if our variables are categorical. "
   ]
  },
  {
   "cell_type": "code",
   "execution_count": null,
   "id": "70879df2-7725-443e-8208-c4954b30a138",
   "metadata": {},
   "outputs": [],
   "source": []
  },
  {
   "cell_type": "markdown",
   "id": "7198b1e8-6298-4fb9-a319-f7f2f723d725",
   "metadata": {},
   "source": [
    "We can also manipulate arrays. This can be necessary for tidying data, and getting it into the right format. We can for example append one array to another. We just use the c() function for this."
   ]
  },
  {
   "cell_type": "code",
   "execution_count": null,
   "id": "750d9402-c1cc-4866-a00b-3f0e75dfe402",
   "metadata": {},
   "outputs": [],
   "source": []
  },
  {
   "cell_type": "markdown",
   "id": "987c336d-d560-4c57-9d87-eee75a342173",
   "metadata": {},
   "source": [
    "This gives us our weights and species as nice tidy data arrays. We can also organise our data into spreadsheets like excel. These are called data frames in R."
   ]
  },
  {
   "cell_type": "code",
   "execution_count": null,
   "id": "03134980-2042-4ef6-92fa-930639259b9c",
   "metadata": {},
   "outputs": [],
   "source": []
  },
  {
   "cell_type": "markdown",
   "id": "21b1fbbc-a349-4d17-8452-81cec475d781",
   "metadata": {},
   "source": [
    "You can always take a look at the dataframe by calling it."
   ]
  },
  {
   "cell_type": "code",
   "execution_count": null,
   "id": "024e2e50-5a68-49f5-8ca3-bf6271649f81",
   "metadata": {},
   "outputs": [],
   "source": []
  },
  {
   "cell_type": "markdown",
   "id": "9311c1ee-e60f-46b7-a56a-1e15095e59bc",
   "metadata": {},
   "source": [
    "We can look at just the top of this spreadsheet."
   ]
  },
  {
   "cell_type": "code",
   "execution_count": null,
   "id": "10d529da-ef20-41b9-9ec7-908d2f6a4b69",
   "metadata": {},
   "outputs": [],
   "source": []
  },
  {
   "cell_type": "markdown",
   "id": "21dea1b3-09c3-40f1-91d0-896897eebb3b",
   "metadata": {},
   "source": [
    "We can also pick out specific variables to do stuff to. We use the '$' for this."
   ]
  },
  {
   "cell_type": "code",
   "execution_count": null,
   "id": "eb8f3359-f073-4ba3-9ac2-0fa26f38e133",
   "metadata": {},
   "outputs": [],
   "source": []
  },
  {
   "cell_type": "markdown",
   "id": "fdc5873a-36a7-4862-9640-213902b19a78",
   "metadata": {},
   "source": [
    "We can also save our spreadsheet."
   ]
  },
  {
   "cell_type": "code",
   "execution_count": null,
   "id": "7f598794-26c4-4f25-a274-049e1b5e5838",
   "metadata": {},
   "outputs": [],
   "source": []
  },
  {
   "cell_type": "markdown",
   "id": "372cb28c-dcc1-470f-af05-d0cc651d1b5e",
   "metadata": {},
   "source": [
    "# Part 3 - Basic plotting"
   ]
  },
  {
   "cell_type": "markdown",
   "id": "183f8f30-0e1f-45de-9999-f9b31e06b85a",
   "metadata": {},
   "source": [
    "Plotting is very important. It allows you to see relationships between variables. There are different kinds of plots that are useful for different kinds of relationships."
   ]
  },
  {
   "cell_type": "markdown",
   "id": "a17a5ec9-1a42-4ba2-bc41-15632b56468f",
   "metadata": {},
   "source": [
    "If you want to plot something very quickly, base R (when you don't download any extra packages) has some great options."
   ]
  },
  {
   "cell_type": "markdown",
   "id": "4e3d1012-0552-4e5a-9ad6-668825b31d60",
   "metadata": {},
   "source": [
    "To visualize the relationship between two continuous variables, you can use a scatterplot..."
   ]
  },
  {
   "cell_type": "code",
   "execution_count": null,
   "id": "6d67b8a1-6a17-4e49-854e-a063fcf50a6f",
   "metadata": {},
   "outputs": [],
   "source": []
  },
  {
   "cell_type": "code",
   "execution_count": null,
   "id": "40ad0a16-c32f-4e96-b971-40cc6fb17f16",
   "metadata": {},
   "outputs": [],
   "source": []
  },
  {
   "cell_type": "markdown",
   "id": "2f4bd725-a55b-4052-bcbe-09e8c8e6b49b",
   "metadata": {},
   "source": [
    "... while boxplots tell you the relationship between categorical and continuous variables."
   ]
  },
  {
   "cell_type": "code",
   "execution_count": null,
   "id": "544e77c0-1f05-4b15-9a01-97b2bfb32bd9",
   "metadata": {},
   "outputs": [],
   "source": []
  },
  {
   "cell_type": "markdown",
   "id": "8a26b67a-2d29-4b1e-a4f7-a09c4fc99c95",
   "metadata": {},
   "source": [
    "The tilde \"~\" is important in R. It can be read to mean \"as a function of\", or \"distributed as\". You will see it again, and you will get used to it. This little syntactic difference is important, because it can allow us to make the same plot using different kinds of data structures. "
   ]
  },
  {
   "cell_type": "markdown",
   "id": "b69a4905-15de-4f77-8805-a12905fb2b9a",
   "metadata": {},
   "source": [
    "These plots are a bit ugly. Even base R can make beautiful plots, you can look at options to fancy plots up using the ?plot command."
   ]
  },
  {
   "cell_type": "markdown",
   "id": "45533359-55d9-494b-967b-d555b3ad2206",
   "metadata": {},
   "source": [
    "A lot of the R community uses a package called ggplot2 to plot. It is very well-documented online and has a lot of options for customization. Packages are like modules in Python. We'll talk a bit more about packages next class. For now, let's just install and load:"
   ]
  },
  {
   "cell_type": "code",
   "execution_count": null,
   "id": "aabd77ff-acd8-409a-980d-67b97ef71e7d",
   "metadata": {
    "scrolled": true
   },
   "outputs": [],
   "source": []
  },
  {
   "cell_type": "code",
   "execution_count": null,
   "id": "f75d56cf-57b3-4789-b072-11a88be731f0",
   "metadata": {},
   "outputs": [],
   "source": []
  },
  {
   "cell_type": "code",
   "execution_count": null,
   "id": "a3a9cf28-9973-42ef-bfd7-a0c82dacb1e3",
   "metadata": {},
   "outputs": [],
   "source": []
  },
  {
   "cell_type": "markdown",
   "id": "8d84d33e-8796-44de-96b1-4b752be7fc62",
   "metadata": {},
   "source": [
    "ggplot2 is a very modular way of plotting. You give commands in a sequential order, and the output of one command is passed to the command with a '+' operator."
   ]
  },
  {
   "cell_type": "markdown",
   "id": "910c3e21-f8d0-43aa-98aa-61c7882eef3c",
   "metadata": {},
   "source": [
    "The first block (before the + sign) specifies the data we want to use and how we want to use it. Using + signs, we can add extra options, for example the style of plot. You can really go crazy with the customizations!"
   ]
  },
  {
   "cell_type": "code",
   "execution_count": null,
   "id": "316dd5c9-f806-4a97-b37e-7445f65b6d30",
   "metadata": {},
   "outputs": [],
   "source": []
  },
  {
   "cell_type": "markdown",
   "id": "9295e5bb-1c71-4831-88f5-75d2166b2a01",
   "metadata": {},
   "source": [
    "There are several excellent resources for learning about ggplot2. Try to play around with them. For example: https://rstudio.github.io/cheatsheets/html/data-visualization.html"
   ]
  },
  {
   "cell_type": "markdown",
   "id": "3da06e77-614e-42da-b9cf-157a7fea72e3",
   "metadata": {},
   "source": [
    "You have encountered some basic plotting functions in R. You have learned the tilde operator. You have learned how to search the help documentation."
   ]
  },
  {
   "cell_type": "markdown",
   "id": "66fb8cb2-317b-4a2a-948d-8e449fc2651b",
   "metadata": {},
   "source": [
    "# Part 4 - Indexing and basic statistics"
   ]
  },
  {
   "cell_type": "markdown",
   "id": "50f48782-ca8d-435f-af20-6f01228c3a50",
   "metadata": {},
   "source": [
    "R is a statistical language, and so it has functions for running statistical operations and models."
   ]
  },
  {
   "cell_type": "markdown",
   "id": "3e477b15-ea0e-4643-8566-17f0a08d0dfc",
   "metadata": {},
   "source": [
    "We can calculate the average a of variable:"
   ]
  },
  {
   "cell_type": "code",
   "execution_count": null,
   "id": "a6604c10-f68e-47fc-bed9-23bf9517abc6",
   "metadata": {},
   "outputs": [],
   "source": []
  },
  {
   "cell_type": "markdown",
   "id": "1d89257f-15ce-43ed-8f06-2d3d27661a62",
   "metadata": {},
   "source": [
    "Sometimes we are interested in sorting or carving our data up, and doing stats on a part of it. We can use indexing for this. For example, we might just want the average of each species in our study"
   ]
  },
  {
   "cell_type": "markdown",
   "id": "a56ecdb1-3f3e-466a-ba70-f9c324648a89",
   "metadata": {},
   "source": [
    "Let's look at how to extract weights for either just the Deers or the Reindeers in our study"
   ]
  },
  {
   "cell_type": "code",
   "execution_count": null,
   "id": "9facde6b-0bcf-4f3f-8c63-21dd37d7b64d",
   "metadata": {},
   "outputs": [],
   "source": []
  },
  {
   "cell_type": "code",
   "execution_count": null,
   "id": "0e1c94c2-f61e-43c8-8066-db6a80b77ae0",
   "metadata": {},
   "outputs": [],
   "source": []
  },
  {
   "cell_type": "markdown",
   "id": "57b547cd-5282-4214-a1a2-297ad830097f",
   "metadata": {},
   "source": [
    "...so that we can compare the average weight"
   ]
  },
  {
   "cell_type": "code",
   "execution_count": null,
   "id": "9990886d-6ac5-4e29-85de-747d0ad4c3c1",
   "metadata": {},
   "outputs": [],
   "source": []
  },
  {
   "cell_type": "code",
   "execution_count": null,
   "id": "6689c4fe-896a-4e30-b11c-6956925256bf",
   "metadata": {},
   "outputs": [],
   "source": []
  },
  {
   "cell_type": "markdown",
   "id": "9f166575-3af4-4bff-9631-9916303268b5",
   "metadata": {},
   "source": [
    "Indexing is incredibly useful. You need to know it. But it is awkward for data frames. We can make a table instead using some basic data manipulation functions. This new table is a new data frame"
   ]
  },
  {
   "cell_type": "code",
   "execution_count": null,
   "id": "5cf24b76-ad38-4558-b685-1f0abb95f064",
   "metadata": {},
   "outputs": [],
   "source": []
  },
  {
   "cell_type": "code",
   "execution_count": null,
   "id": "91510085-e3e0-4206-8b29-6ebe57db237f",
   "metadata": {},
   "outputs": [],
   "source": []
  },
  {
   "cell_type": "markdown",
   "id": "f31aed63-90b9-497f-8baf-e034626dff8c",
   "metadata": {},
   "source": [
    "This is the exact same logic as with the plotting. First you define the data you are working on, then you sequentially operate on it. This is called \"piping\"."
   ]
  },
  {
   "cell_type": "markdown",
   "id": "cd8557f1-fb50-4db7-a6cc-834c89d809dd",
   "metadata": {},
   "source": [
    "The mean is only one statistic. We can also look at other statistics. How about the median?"
   ]
  },
  {
   "cell_type": "code",
   "execution_count": null,
   "id": "7184cb98-8833-4e9b-945d-73c6276a1e16",
   "metadata": {},
   "outputs": [],
   "source": []
  },
  {
   "cell_type": "code",
   "execution_count": null,
   "id": "edbc44e9-6df0-4ebe-8e99-f7afa84b17ea",
   "metadata": {},
   "outputs": [],
   "source": []
  },
  {
   "cell_type": "markdown",
   "id": "d83c236f-8520-4227-aa14-459142bd1c0a",
   "metadata": {},
   "source": [
    "We can also look at the standard deviation."
   ]
  },
  {
   "cell_type": "code",
   "execution_count": null,
   "id": "a56f9cc9-7436-4384-8568-5d171d4b3efb",
   "metadata": {},
   "outputs": [],
   "source": []
  },
  {
   "cell_type": "code",
   "execution_count": null,
   "id": "36645a7d-b6fc-41e8-bacc-3e748ab937e0",
   "metadata": {},
   "outputs": [],
   "source": []
  },
  {
   "cell_type": "markdown",
   "id": "7d9851c2-683b-4162-8228-8ca6df4e8645",
   "metadata": {},
   "source": [
    "Now we are almost ready to do some statistics. We will cover statistical concepts in the next lecture. BUt as a teaser, let's look at a quick comparison, and see if these means are really different."
   ]
  },
  {
   "cell_type": "code",
   "execution_count": null,
   "id": "34100bd1-d979-4fd9-a31b-c552ab8cd97c",
   "metadata": {},
   "outputs": [],
   "source": []
  },
  {
   "cell_type": "markdown",
   "id": "504a0793-73b2-481f-95ec-1f32b062a737",
   "metadata": {},
   "source": [
    "You have learned about indexing. You have learned about basic statistical functions. You have learned how to generate summary tables. You have run your first statistical simulation, and your first hypothesis test."
   ]
  }
 ],
 "metadata": {
  "kernelspec": {
   "display_name": "R",
   "language": "R",
   "name": "ir"
  },
  "language_info": {
   "codemirror_mode": "r",
   "file_extension": ".r",
   "mimetype": "text/x-r-source",
   "name": "R",
   "pygments_lexer": "r",
   "version": "4.4.1"
  }
 },
 "nbformat": 4,
 "nbformat_minor": 5
}
